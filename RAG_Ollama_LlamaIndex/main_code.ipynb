{
 "cells": [
  {
   "cell_type": "code",
   "execution_count": 1,
   "metadata": {},
   "outputs": [],
   "source": [
    "from llama_index.core import (\n",
    "    ServiceContext,\n",
    "    SimpleDirectoryReader,\n",
    "    StorageContext,\n",
    "    VectorStoreIndex,\n",
    "    set_global_service_context,\n",
    ")\n",
    "from llama_index.llms.ollama import Ollama\n",
    "\n",
    "llm = Ollama(model=\"llama3.1\", request_timeout= 360.0)\n"
   ]
  },
  {
   "cell_type": "code",
   "execution_count": 2,
   "metadata": {},
   "outputs": [],
   "source": [
    "# Reads pdfs at \"./\" path\n",
    "documents = (\n",
    "    SimpleDirectoryReader(\n",
    "        input_files= ['data.pdf'])\n",
    "        .load_data()\n",
    ")"
   ]
  },
  {
   "cell_type": "code",
   "execution_count": 3,
   "metadata": {},
   "outputs": [
    {
     "data": {
      "text/plain": [
       "[Document(id_='b1ce50fe-3e43-4653-9c4c-d04099609ce8', embedding=None, metadata={'page_label': '1', 'file_name': 'data.pdf', 'file_path': 'data.pdf', 'file_type': 'application/pdf', 'file_size': 18223, 'creation_date': '2024-08-15', 'last_modified_date': '2024-08-15'}, excluded_embed_metadata_keys=['file_name', 'file_type', 'file_size', 'creation_date', 'last_modified_date', 'last_accessed_date'], excluded_llm_metadata_keys=['file_name', 'file_type', 'file_size', 'creation_date', 'last_modified_date', 'last_accessed_date'], relationships={}, text='Ram: Sita, have you been following the recent geopolitical shifts? The world seems \\nto be in constant flux, with new alliances forming and old ones breaking apart.\\nSita: Yes, Ram. It’s fascinating, yet concerning. The balance of power is always \\nshifting, and with it, the dynamics of peace and conflict. What do you make of the \\ngrowing tensions in the Indo-Pacific region?\\nRam: The Indo-Pacific is becoming a key battleground for influence, especially with  \\nthe rise of China. Their assertive stance in the South China Sea, coupled with \\ntheir Belt and Road Initiative, is reshaping regional power structures. Nations \\nlike India, Japan, and Australia are responding by strengthening their own ties, \\nseeking to counterbalance China’s influence.\\nSita: It’s a delicate dance, isn’t it? While economic partnerships are crucial, \\nthey also need to ensure that these alliances don’t escalate into conflicts. The \\nQuad, for instance, is an interesting development. But can these nations maintain a  \\nbalance between economic cooperation and strategic deterrence?\\nRam: That’s the challenge. The Quad—comprising India, the U.S., Japan, and \\nAustralia—does have the potential to be a stabilizing force. However, they must \\nnavigate this without provoking China too much. The goal should be peace through \\nstrength, not through aggression.\\nSita: Indeed, but it’s not just the Indo-Pacific that’s concerning. The Middle East  \\nremains a hotspot for geopolitical struggles. The recent normalization agreements \\nbetween Israel and several Arab nations have altered traditional alliances. How do \\nyou see this impacting the broader region?\\nRam: The Abraham Accords have certainly shifted the dynamics in the Middle East. \\nWhile they’ve opened the door to new economic opportunities, they’ve also created \\nnew tensions, especially with Iran. The regional power struggle between Sunni Arab \\nstates and Shia Iran is becoming more pronounced. The U.S. is trying to manage this  \\nby balancing its alliances, but it’s a tightrope walk.\\nSita: And then there’s Russia’s influence in Eastern Europe, particularly in \\nUkraine. The annexation of Crimea was a turning point, and the ongoing conflict in \\nUkraine keeps the region unstable. What do you think Russia’s endgame is?\\nRam: Russia’s actions are driven by a desire to reclaim its influence in the post-\\nSoviet space. By keeping Ukraine unstable, they ensure that it can’t fully \\nintegrate with the West. Putin’s strategy seems to be about projecting power and \\nmaintaining a buffer zone against NATO’s expansion. However, this has come at the \\ncost of international isolation and economic sanctions.\\nSita: The world seems to be at a crossroads. With climate change, economic \\ninequality, and the rise of nationalism, the challenges are multifaceted. How do \\nyou think nations can navigate this complex landscape while ensuring a more \\npeaceful and just world?\\nRam: It will require a blend of wisdom, diplomacy, and a commitment to shared \\nvalues. Nations must work together to address global issues like climate change, \\nwhich knows no borders. At the same time, they must respect each other’s \\nsovereignty and avoid actions that lead to unnecessary conflicts. True leadership \\nwill come from those who can unite diverse nations towards common goals, rather \\nthan exploiting divisions.\\nSita: Well said, Ram. The world may be divided by borders and ideologies, but we \\nmust never forget our shared humanity. It’s in understanding and cooperation that \\nwe can find the path to lasting peace.', mimetype='text/plain', start_char_idx=None, end_char_idx=None, text_template='{metadata_str}\\n\\n{content}', metadata_template='{key}: {value}', metadata_seperator='\\n'),\n",
       " Document(id_='e2867d02-df10-4aed-9034-ea6a4d58fd71', embedding=None, metadata={'page_label': '2', 'file_name': 'data.pdf', 'file_path': 'data.pdf', 'file_type': 'application/pdf', 'file_size': 18223, 'creation_date': '2024-08-15', 'last_modified_date': '2024-08-15'}, excluded_embed_metadata_keys=['file_name', 'file_type', 'file_size', 'creation_date', 'last_modified_date', 'last_accessed_date'], excluded_llm_metadata_keys=['file_name', 'file_type', 'file_size', 'creation_date', 'last_modified_date', 'last_accessed_date'], relationships={}, text='Ram: Exactly, Sita. We must strive to be beacons of peace, guiding the world \\nthrough these turbulent times. The lessons of the past should inform our actions \\ntoday, ensuring a better tomorrow for all.', mimetype='text/plain', start_char_idx=None, end_char_idx=None, text_template='{metadata_str}\\n\\n{content}', metadata_template='{key}: {value}', metadata_seperator='\\n')]"
      ]
     },
     "execution_count": 3,
     "metadata": {},
     "output_type": "execute_result"
    }
   ],
   "source": [
    "documents"
   ]
  },
  {
   "cell_type": "code",
   "execution_count": 4,
   "metadata": {},
   "outputs": [
    {
     "name": "stderr",
     "output_type": "stream",
     "text": [
      "/tmp/ipykernel_56566/2018639152.py:6: DeprecationWarning: Call to deprecated class method from_defaults. (ServiceContext is deprecated, please use `llama_index.settings.Settings` instead.) -- Deprecated since version 0.10.0.\n",
      "  .from_defaults(\n",
      "/home/rajatdulal/miniconda3/envs/langchain/lib/python3.12/site-packages/tqdm/auto.py:21: TqdmWarning: IProgress not found. Please update jupyter and ipywidgets. See https://ipywidgets.readthedocs.io/en/stable/user_install.html\n",
      "  from .autonotebook import tqdm as notebook_tqdm\n"
     ]
    }
   ],
   "source": [
    "\n",
    "# ServiceContext is a bundle of commonly used \n",
    "# resources used during the indexing and \n",
    "# querying stage \n",
    "service_context = (\n",
    "    ServiceContext\n",
    "    .from_defaults(\n",
    "        llm=llm, \n",
    "        embed_model=\"local:BAAI/bge-small-en-v1.5\", \n",
    "        chunk_size=300\n",
    "    )\n",
    ")\n",
    "set_global_service_context(service_context)\n",
    "\n",
    "# Node represents a “chunk” of a source Document\n",
    "nodes = (\n",
    "    service_context\n",
    "    .node_parser\n",
    "    .get_nodes_from_documents(documents)\n",
    ")\n",
    "\n",
    "# offers core abstractions around storage of Nodes, \n",
    "# indices, and vectors\n",
    "storage_context = StorageContext.from_defaults()\n",
    "storage_context.docstore.add_documents(nodes)\n",
    "\n",
    "# Create the vectorstore index\n",
    "index = (\n",
    "    VectorStoreIndex\n",
    "    .from_documents(\n",
    "        documents, \n",
    "        storage_context=storage_context, \n",
    "        llm=llm\n",
    "        )\n",
    ")\n"
   ]
  },
  {
   "cell_type": "markdown",
   "metadata": {},
   "source": [
    "# Query Engine"
   ]
  },
  {
   "cell_type": "code",
   "execution_count": 6,
   "metadata": {},
   "outputs": [],
   "source": [
    "query_engine = index.as_query_engine(similarity_top_k=3)\n",
    "# query_engine = index.as_query_engine()"
   ]
  },
  {
   "cell_type": "code",
   "execution_count": 7,
   "metadata": {},
   "outputs": [],
   "source": [
    "query = \"What does Ram think of Abraham Accords?\"\n",
    "\n",
    "response = query_engine.query(query)"
   ]
  },
  {
   "cell_type": "code",
   "execution_count": 8,
   "metadata": {},
   "outputs": [
    {
     "name": "stdout",
     "output_type": "stream",
     "text": [
      "Ram thinks that The Abraham Accords have certainly shifted the dynamics in the Middle East. While they’ve opened the door to new economic opportunities, they’ve also created new tensions, especially with Iran.\n"
     ]
    }
   ],
   "source": [
    "print(response)"
   ]
  },
  {
   "cell_type": "code",
   "execution_count": 9,
   "metadata": {},
   "outputs": [
    {
     "data": {
      "text/plain": [
       "'Ram thinks that The Abraham Accords have certainly shifted the dynamics in the Middle East. While they’ve opened the door to new economic opportunities, they’ve also created new tensions, especially with Iran.'"
      ]
     },
     "execution_count": 9,
     "metadata": {},
     "output_type": "execute_result"
    }
   ],
   "source": [
    "response.response"
   ]
  },
  {
   "cell_type": "code",
   "execution_count": 10,
   "metadata": {},
   "outputs": [
    {
     "name": "stdout",
     "output_type": "stream",
     "text": [
      "0.6445256790996351 👉 Ram: The Indo-Pacific is becoming a key battleground for influence, especially with  \n",
      "the rise of China. Their assertive stance in the South China Sea, coupled with \n",
      "their Belt and Road Initiative, is reshaping regional power structures. Nations \n",
      "like India, Japan, and Australia are responding by strengthening their own ties, \n",
      "seeking to counterbalance China’s influence.\n",
      "Sita: It’s a delicate dance, isn’t it? While economic partnerships are crucial, \n",
      "they also need to ensure that these alliances don’t escalate into conflicts. The \n",
      "Quad, for instance, is an interesting development. But can these nations maintain a  \n",
      "balance between economic cooperation and strategic deterrence?\n",
      "Ram: That’s the challenge. The Quad—comprising India, the U.S., Japan, and \n",
      "Australia—does have the potential to be a stabilizing force. However, they must \n",
      "navigate this without provoking China too much. The goal should be peace through \n",
      "strength, not through aggression.\n",
      "Sita: Indeed, but it’s not just the Indo-Pacific that’s concerning. The Middle East  \n",
      "remains a hotspot for geopolitical struggles. The recent normalization agreements \n",
      "between Israel and several Arab nations have altered traditional alliances. How do \n",
      "you see this impacting the broader region?\n",
      "Ram: The Abraham Accords have certainly shifted the dynamics in the Middle East.\n",
      "0.6299388002211329 👉 How do \n",
      "you see this impacting the broader region?\n",
      "Ram: The Abraham Accords have certainly shifted the dynamics in the Middle East. \n",
      "While they’ve opened the door to new economic opportunities, they’ve also created \n",
      "new tensions, especially with Iran. The regional power struggle between Sunni Arab \n",
      "states and Shia Iran is becoming more pronounced. The U.S. is trying to manage this  \n",
      "by balancing its alliances, but it’s a tightrope walk.\n",
      "Sita: And then there’s Russia’s influence in Eastern Europe, particularly in \n",
      "Ukraine. The annexation of Crimea was a turning point, and the ongoing conflict in \n",
      "Ukraine keeps the region unstable. What do you think Russia’s endgame is?\n",
      "Ram: Russia’s actions are driven by a desire to reclaim its influence in the post-\n",
      "Soviet space. By keeping Ukraine unstable, they ensure that it can’t fully \n",
      "integrate with the West. Putin’s strategy seems to be about projecting power and \n",
      "maintaining a buffer zone against NATO’s expansion. However, this has come at the \n",
      "cost of international isolation and economic sanctions.\n",
      "Sita: The world seems to be at a crossroads. With climate change, economic \n",
      "inequality, and the rise of nationalism, the challenges are multifaceted.\n",
      "0.6207460949149594 👉 While economic partnerships are crucial, \n",
      "they also need to ensure that these alliances don’t escalate into conflicts. The \n",
      "Quad, for instance, is an interesting development. But can these nations maintain a  \n",
      "balance between economic cooperation and strategic deterrence?\n",
      "Ram: That’s the challenge. The Quad—comprising India, the U.S., Japan, and \n",
      "Australia—does have the potential to be a stabilizing force. However, they must \n",
      "navigate this without provoking China too much. The goal should be peace through \n",
      "strength, not through aggression.\n",
      "Sita: Indeed, but it’s not just the Indo-Pacific that’s concerning. The Middle East  \n",
      "remains a hotspot for geopolitical struggles. The recent normalization agreements \n",
      "between Israel and several Arab nations have altered traditional alliances. How do \n",
      "you see this impacting the broader region?\n",
      "Ram: The Abraham Accords have certainly shifted the dynamics in the Middle East. \n",
      "While they’ve opened the door to new economic opportunities, they’ve also created \n",
      "new tensions, especially with Iran. The regional power struggle between Sunni Arab \n",
      "states and Shia Iran is becoming more pronounced. The U.S. is trying to manage this  \n",
      "by balancing its alliances, but it’s a tightrope walk.\n",
      "Sita: And then there’s Russia’s influence in Eastern Europe, particularly in \n",
      "Ukraine.\n"
     ]
    }
   ],
   "source": [
    "for node in response.source_nodes:\n",
    "    print(f\"{node.get_score()} 👉 {node.text}\")"
   ]
  },
  {
   "cell_type": "code",
   "execution_count": null,
   "metadata": {},
   "outputs": [],
   "source": []
  },
  {
   "cell_type": "markdown",
   "metadata": {},
   "source": [
    "# Chat Engine"
   ]
  },
  {
   "cell_type": "code",
   "execution_count": 5,
   "metadata": {},
   "outputs": [],
   "source": [
    "query = \"Which countries are trying to counter China?\"\n",
    "chat_eng = index.as_chat_engine(similarity_top_k=3, chat_mode='context')\n",
    "response = chat_eng.chat(query)"
   ]
  },
  {
   "cell_type": "code",
   "execution_count": 6,
   "metadata": {},
   "outputs": [
    {
     "name": "stdout",
     "output_type": "stream",
     "text": [
      "According to the provided text, nations like India, Japan, and Australia are responding to China's rise by strengthening their own ties, seeking to counterbalance China's influence. This is mentioned in the following sentences:\n",
      "\n",
      "\"...Nations like India, Japan, and Australia are responding by strengthening their own ties, seeking to counterbalance China’s influence.\"\n",
      "\n",
      "and\n",
      "\n",
      "\"Ram: That’s the challenge. The Quad—comprising India, the U.S., Japan, and Australia—does have the potential to be a stabilizing force.\"\n"
     ]
    }
   ],
   "source": [
    "print(response)"
   ]
  },
  {
   "cell_type": "code",
   "execution_count": 7,
   "metadata": {},
   "outputs": [],
   "source": [
    "query = \"What is the reason behind such counterbalance?\"\n",
    "chat_eng = index.as_chat_engine(similarity_top_k=3, chat_mode='context')\n",
    "response = chat_eng.chat(query)  "
   ]
  },
  {
   "cell_type": "code",
   "execution_count": 8,
   "metadata": {},
   "outputs": [
    {
     "data": {
      "text/plain": [
       "\"The reason behind the counterbalance in the Indo-Pacific region, as well as other regions like the Middle East and Eastern Europe, is primarily driven by security concerns and a desire to maintain strategic deterrence.\\n\\nChina's growing economic and military influence has led countries like India, Japan, Australia, and others to strengthen their own ties and form alliances to counterbalance China's power. This is motivated by several factors:\\n\\n1. **Security concerns**: The rise of China's military capabilities and its assertive behavior in the South China Sea have raised concerns among regional nations about potential threats to their sovereignty and territorial integrity.\\n2. **Fear of Chinese dominance**: The growing economic and strategic influence of China has led some countries to worry that they will become too dependent on China, compromising their national interests and autonomy.\\n3. **Competition for resources and markets**: The increasing economic competition between China and other nations has also contributed to the desire to form counterbalancing alliances.\\n\\nIn the Middle East, the normalization agreements between Israel and several Arab nations have altered traditional alliances, leading to concerns about:\\n\\n1. **Iran's influence**: Iran's growing power and its Shia ideology have raised security concerns among Sunni Arab states, leading them to strengthen their ties with other countries.\\n2. **Regional stability**: The Abraham Accords aim to promote regional stability by creating new economic opportunities and reducing tensions between Israel and some Arab nations.\\n\\nIn Eastern Europe, Russia's influence in Ukraine has led to concerns about:\\n\\n1. **Security threats**: Russia's military actions in Ukraine have raised fears among neighboring countries about potential security threats.\\n2. **Energy politics**: The competition for energy resources and transit routes has also contributed to the desire to form counterbalancing alliances.\\n\\nOverall, the reason behind such counterbalance is a complex mix of security concerns, economic interests, and a desire to maintain strategic deterrence in an increasingly multipolar world.\""
      ]
     },
     "execution_count": 8,
     "metadata": {},
     "output_type": "execute_result"
    }
   ],
   "source": [
    "response.response"
   ]
  },
  {
   "cell_type": "code",
   "execution_count": 9,
   "metadata": {},
   "outputs": [
    {
     "name": "stdout",
     "output_type": "stream",
     "text": [
      "0.6069744714179234 👉 Ram: Sita, have you been following the recent geopolitical shifts? The world seems \n",
      "to be in constant flux, with new alliances forming and old ones breaking apart.\n",
      "Sita: Yes, Ram. It’s fascinating, yet concerning. The balance of power is always \n",
      "shifting, and with it, the dynamics of peace and conflict. What do you make of the \n",
      "growing tensions in the Indo-Pacific region?\n",
      "Ram: The Indo-Pacific is becoming a key battleground for influence, especially with  \n",
      "the rise of China. Their assertive stance in the South China Sea, coupled with \n",
      "their Belt and Road Initiative, is reshaping regional power structures. Nations \n",
      "like India, Japan, and Australia are responding by strengthening their own ties, \n",
      "seeking to counterbalance China’s influence.\n",
      "Sita: It’s a delicate dance, isn’t it? While economic partnerships are crucial, \n",
      "they also need to ensure that these alliances don’t escalate into conflicts. The \n",
      "Quad, for instance, is an interesting development. But can these nations maintain a  \n",
      "balance between economic cooperation and strategic deterrence?\n",
      "Ram: That’s the challenge. The Quad—comprising India, the U.S., Japan, and \n",
      "Australia—does have the potential to be a stabilizing force. However, they must \n",
      "navigate this without provoking China too much.\n",
      "0.5994577661116139 👉 Ram: The Indo-Pacific is becoming a key battleground for influence, especially with  \n",
      "the rise of China. Their assertive stance in the South China Sea, coupled with \n",
      "their Belt and Road Initiative, is reshaping regional power structures. Nations \n",
      "like India, Japan, and Australia are responding by strengthening their own ties, \n",
      "seeking to counterbalance China’s influence.\n",
      "Sita: It’s a delicate dance, isn’t it? While economic partnerships are crucial, \n",
      "they also need to ensure that these alliances don’t escalate into conflicts. The \n",
      "Quad, for instance, is an interesting development. But can these nations maintain a  \n",
      "balance between economic cooperation and strategic deterrence?\n",
      "Ram: That’s the challenge. The Quad—comprising India, the U.S., Japan, and \n",
      "Australia—does have the potential to be a stabilizing force. However, they must \n",
      "navigate this without provoking China too much. The goal should be peace through \n",
      "strength, not through aggression.\n",
      "Sita: Indeed, but it’s not just the Indo-Pacific that’s concerning. The Middle East  \n",
      "remains a hotspot for geopolitical struggles. The recent normalization agreements \n",
      "between Israel and several Arab nations have altered traditional alliances. How do \n",
      "you see this impacting the broader region?\n",
      "Ram: The Abraham Accords have certainly shifted the dynamics in the Middle East.\n",
      "0.5856878702038182 👉 While economic partnerships are crucial, \n",
      "they also need to ensure that these alliances don’t escalate into conflicts. The \n",
      "Quad, for instance, is an interesting development. But can these nations maintain a  \n",
      "balance between economic cooperation and strategic deterrence?\n",
      "Ram: That’s the challenge. The Quad—comprising India, the U.S., Japan, and \n",
      "Australia—does have the potential to be a stabilizing force. However, they must \n",
      "navigate this without provoking China too much. The goal should be peace through \n",
      "strength, not through aggression.\n",
      "Sita: Indeed, but it’s not just the Indo-Pacific that’s concerning. The Middle East  \n",
      "remains a hotspot for geopolitical struggles. The recent normalization agreements \n",
      "between Israel and several Arab nations have altered traditional alliances. How do \n",
      "you see this impacting the broader region?\n",
      "Ram: The Abraham Accords have certainly shifted the dynamics in the Middle East. \n",
      "While they’ve opened the door to new economic opportunities, they’ve also created \n",
      "new tensions, especially with Iran. The regional power struggle between Sunni Arab \n",
      "states and Shia Iran is becoming more pronounced. The U.S. is trying to manage this  \n",
      "by balancing its alliances, but it’s a tightrope walk.\n",
      "Sita: And then there’s Russia’s influence in Eastern Europe, particularly in \n",
      "Ukraine.\n"
     ]
    }
   ],
   "source": [
    "for node in response.source_nodes:\n",
    "    print(f\"{node.get_score()} 👉 {node.text}\")"
   ]
  },
  {
   "cell_type": "code",
   "execution_count": null,
   "metadata": {},
   "outputs": [],
   "source": []
  }
 ],
 "metadata": {
  "kernelspec": {
   "display_name": "langchain",
   "language": "python",
   "name": "python3"
  },
  "language_info": {
   "codemirror_mode": {
    "name": "ipython",
    "version": 3
   },
   "file_extension": ".py",
   "mimetype": "text/x-python",
   "name": "python",
   "nbconvert_exporter": "python",
   "pygments_lexer": "ipython3",
   "version": "3.12.4"
  }
 },
 "nbformat": 4,
 "nbformat_minor": 2
}
